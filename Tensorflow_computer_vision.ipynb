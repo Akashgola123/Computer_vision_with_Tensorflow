{
  "nbformat": 4,
  "nbformat_minor": 0,
  "metadata": {
    "colab": {
      "provenance": [],
      "authorship_tag": "ABX9TyN8h75gL0rr7zF1jByyvqd0",
      "include_colab_link": true
    },
    "kernelspec": {
      "name": "python3",
      "display_name": "Python 3"
    },
    "language_info": {
      "name": "python"
    }
  },
  "cells": [
    {
      "cell_type": "markdown",
      "metadata": {
        "id": "view-in-github",
        "colab_type": "text"
      },
      "source": [
        "<a href=\"https://colab.research.google.com/github/Akashgola123/Computer_vision_with_Tensorflow/blob/main/Tensorflow_computer_vision.ipynb\" target=\"_parent\"><img src=\"https://colab.research.google.com/assets/colab-badge.svg\" alt=\"Open In Colab\"/></a>"
      ]
    },
    {
      "cell_type": "markdown",
      "source": [
        "TENSORS are multi dimension array\n"
      ],
      "metadata": {
        "id": "SKQczmPZUPQS"
      }
    },
    {
      "cell_type": "markdown",
      "source": [
        "An Array is an order arragement of Numbers"
      ],
      "metadata": {
        "id": "zb3Kxq1pUTqP"
      }
    },
    {
      "cell_type": "code",
      "source": [
        "# initialization and casting\n",
        "\n",
        "import tensorflow as tf\n"
      ],
      "metadata": {
        "id": "Ho5TFybwUHmm"
      },
      "execution_count": 1,
      "outputs": []
    },
    {
      "cell_type": "code",
      "source": [
        "tensor_zero_dt = tf.constant(4)\n",
        "print(tensor_zero_dt)"
      ],
      "metadata": {
        "colab": {
          "base_uri": "https://localhost:8080/"
        },
        "id": "FY3WfngLXLrI",
        "outputId": "4ae2b358-98d0-4895-cfae-ee7975733253"
      },
      "execution_count": null,
      "outputs": [
        {
          "output_type": "stream",
          "name": "stdout",
          "text": [
            "tf.Tensor(4, shape=(), dtype=int32)\n"
          ]
        }
      ]
    },
    {
      "cell_type": "code",
      "source": [
        "tensor_one_dt = tf.constant([2,0,-3],dtype=tf.int32)\n",
        "cast_tensor_dt = tf.cast(tensor_one_dt,dtype=tf.bool)\n",
        "print(tensor_one_dt)\n",
        "print(cast_tensor_dt)"
      ],
      "metadata": {
        "colab": {
          "base_uri": "https://localhost:8080/"
        },
        "id": "ZFXzVGxGXbS_",
        "outputId": "67b55a94-4d9c-473d-c893-de700ea8e20b"
      },
      "execution_count": null,
      "outputs": [
        {
          "output_type": "stream",
          "name": "stdout",
          "text": [
            "tf.Tensor([ 2  0 -3], shape=(3,), dtype=int32)\n",
            "tf.Tensor([ True False  True], shape=(3,), dtype=bool)\n"
          ]
        }
      ]
    },
    {
      "cell_type": "code",
      "source": [
        "tensor_two_dt = tf.constant([[4, -2, 5], [-3, 7, -0],[4,9,3],[2,7,8]])\n",
        "print(tensor_two_dt)"
      ],
      "metadata": {
        "colab": {
          "base_uri": "https://localhost:8080/"
        },
        "id": "iOCmBwxoXmEU",
        "outputId": "c563d5aa-1d68-4d6d-ae58-6135e98d684c"
      },
      "execution_count": null,
      "outputs": [
        {
          "output_type": "stream",
          "name": "stdout",
          "text": [
            "tf.Tensor(\n",
            "[[ 4 -2  5]\n",
            " [-3  7  0]\n",
            " [ 4  9  3]\n",
            " [ 2  7  8]], shape=(4, 3), dtype=int32)\n"
          ]
        }
      ]
    },
    {
      "cell_type": "code",
      "source": [
        "tensor_three_dt = tf.constant([[[4, -2, 5], [-3, 7, -0]],[[4,9,3],[2,7,8]],[[4, -2, 5], [-3, 7, -0]],[[4,6,7],[9,0,5]]])\n",
        "print(tensor_three_dt)"
      ],
      "metadata": {
        "colab": {
          "base_uri": "https://localhost:8080/"
        },
        "id": "l5l0DVNqXtRa",
        "outputId": "81f4a8e1-ff66-42a5-9473-52e4a421bcca"
      },
      "execution_count": null,
      "outputs": [
        {
          "output_type": "stream",
          "name": "stdout",
          "text": [
            "tf.Tensor(\n",
            "[[[ 4 -2  5]\n",
            "  [-3  7  0]]\n",
            "\n",
            " [[ 4  9  3]\n",
            "  [ 2  7  8]]\n",
            "\n",
            " [[ 4 -2  5]\n",
            "  [-3  7  0]]\n",
            "\n",
            " [[ 4  6  7]\n",
            "  [ 9  0  5]]], shape=(4, 2, 3), dtype=int32)\n"
          ]
        }
      ]
    },
    {
      "cell_type": "code",
      "source": [
        "print(tensor_three_dt.shape)\n",
        "print(tensor_three_dt.ndim)\n",
        "print(tensor_three_dt.dtype)\n",
        "print(tf.size(tensor_three_dt))"
      ],
      "metadata": {
        "colab": {
          "base_uri": "https://localhost:8080/"
        },
        "id": "FEJ1g7i8YBG-",
        "outputId": "b04e06c1-a2c1-42f6-e7f8-3c16c066385c"
      },
      "execution_count": null,
      "outputs": [
        {
          "output_type": "stream",
          "name": "stdout",
          "text": [
            "(4, 2, 3)\n",
            "3\n",
            "<dtype: 'int32'>\n",
            "tf.Tensor(24, shape=(), dtype=int32)\n"
          ]
        }
      ]
    },
    {
      "cell_type": "code",
      "source": [
        "[[[4, -2, 5], [-3, 7, -0]],[[4,9,3],[2,7,8]],[[4, -2, 5], [-3, 7, -0]],[[4,6,7],[9,0,5]]]"
      ],
      "metadata": {
        "colab": {
          "base_uri": "https://localhost:8080/"
        },
        "id": "l2CCNC1dYoFd",
        "outputId": "7002d8c8-ed02-402f-c689-af959e8b0334"
      },
      "execution_count": null,
      "outputs": [
        {
          "output_type": "stream",
          "name": "stdout",
          "text": [
            "tf.Tensor(\n",
            "[[[ 4. -2.  5.]\n",
            "  [-3.  7.  0.]]\n",
            "\n",
            " [[ 4.  9.  3.]\n",
            "  [ 2.  7.  8.]]\n",
            "\n",
            " [[ 4. -2.  5.]\n",
            "  [-3.  7.  0.]]\n",
            "\n",
            " [[ 4.  6.  7.]\n",
            "  [ 9.  0.  5.]]], shape=(4, 2, 3), dtype=float16)\n"
          ]
        }
      ]
    },
    {
      "cell_type": "code",
      "source": [
        "tf_four_dt = tf.constant([[[[4, -2, 5], [-3, 7, -0]],[[4,9,3],[2,7,8]],[[4, -2, 5], [-3, 7, -0]],[[4,6,7],[9,0,5]]],[[[4, -2, 5], [-3, 7, -0]],[[4,9,3],[2,7,8]],[[4, -2, 5], [-3, 7, -0]],[[4,6,7],[9,0,5]]],[[[4, -2, 5], [-3, 7, -0]],[[4,9,3],[2,7,8]],[[4, -2, 5], [-3, 7, -0]],[[4,6,7],[9,0,5]]],[[[4, -2, 5], [-3, 7, -0]],[[4,9,3],[2,7,8]],[[4, -2, 5], [-3, 7, -0]],[[4,6,7],[9,0,5]]]])\n",
        "print(tf_four_dt)"
      ],
      "metadata": {
        "colab": {
          "base_uri": "https://localhost:8080/"
        },
        "id": "3Lt9EnjKZJLR",
        "outputId": "0dec3bef-1343-4d67-ae72-e2a4dcfbdbbe"
      },
      "execution_count": null,
      "outputs": [
        {
          "output_type": "stream",
          "name": "stdout",
          "text": [
            "tf.Tensor(\n",
            "[[[[ 4 -2  5]\n",
            "   [-3  7  0]]\n",
            "\n",
            "  [[ 4  9  3]\n",
            "   [ 2  7  8]]\n",
            "\n",
            "  [[ 4 -2  5]\n",
            "   [-3  7  0]]\n",
            "\n",
            "  [[ 4  6  7]\n",
            "   [ 9  0  5]]]\n",
            "\n",
            "\n",
            " [[[ 4 -2  5]\n",
            "   [-3  7  0]]\n",
            "\n",
            "  [[ 4  9  3]\n",
            "   [ 2  7  8]]\n",
            "\n",
            "  [[ 4 -2  5]\n",
            "   [-3  7  0]]\n",
            "\n",
            "  [[ 4  6  7]\n",
            "   [ 9  0  5]]]\n",
            "\n",
            "\n",
            " [[[ 4 -2  5]\n",
            "   [-3  7  0]]\n",
            "\n",
            "  [[ 4  9  3]\n",
            "   [ 2  7  8]]\n",
            "\n",
            "  [[ 4 -2  5]\n",
            "   [-3  7  0]]\n",
            "\n",
            "  [[ 4  6  7]\n",
            "   [ 9  0  5]]]\n",
            "\n",
            "\n",
            " [[[ 4 -2  5]\n",
            "   [-3  7  0]]\n",
            "\n",
            "  [[ 4  9  3]\n",
            "   [ 2  7  8]]\n",
            "\n",
            "  [[ 4 -2  5]\n",
            "   [-3  7  0]]\n",
            "\n",
            "  [[ 4  6  7]\n",
            "   [ 9  0  5]]]], shape=(4, 4, 2, 3), dtype=int32)\n"
          ]
        }
      ]
    },
    {
      "cell_type": "code",
      "source": [
        "print(tf_four_dt.shape)\n",
        "print(tf_four_dt.ndim)\n",
        "print(tf_four_dt.dtype)\n",
        "print(tf.size(tf_four_dt))"
      ],
      "metadata": {
        "colab": {
          "base_uri": "https://localhost:8080/"
        },
        "id": "k7QCPrbUc4PQ",
        "outputId": "440a2339-7a98-48be-f706-66a21242850d"
      },
      "execution_count": null,
      "outputs": [
        {
          "output_type": "stream",
          "name": "stdout",
          "text": [
            "(4, 4, 2, 3)\n",
            "4\n",
            "<dtype: 'int32'>\n",
            "tf.Tensor(96, shape=(), dtype=int32)\n"
          ]
        }
      ]
    },
    {
      "cell_type": "code",
      "source": [
        "import numpy as np\n"
      ],
      "metadata": {
        "id": "tqPyg3LVdDNX"
      },
      "execution_count": null,
      "outputs": []
    },
    {
      "cell_type": "code",
      "source": [
        "np_array_list = np.array([1,2,3,4])\n",
        "print(np_array_list.ndim)"
      ],
      "metadata": {
        "colab": {
          "base_uri": "https://localhost:8080/"
        },
        "id": "ioJwJ5JYgBDs",
        "outputId": "1af96a17-7c7f-4f56-c751-8bd564a5eb48"
      },
      "execution_count": null,
      "outputs": [
        {
          "output_type": "stream",
          "name": "stdout",
          "text": [
            "1\n"
          ]
        }
      ]
    },
    {
      "cell_type": "code",
      "source": [
        "convert_tf_to_np = tf.convert_to_tensor(np_array_list)\n",
        "print(convert_tf_to_np)"
      ],
      "metadata": {
        "colab": {
          "base_uri": "https://localhost:8080/"
        },
        "id": "1TtHjkEAgE5t",
        "outputId": "b1a9d091-bb5c-45ee-e8c1-a4c872ef7cf9"
      },
      "execution_count": null,
      "outputs": [
        {
          "output_type": "stream",
          "name": "stdout",
          "text": [
            "tf.Tensor([1 2 3 4], shape=(4,), dtype=int64)\n"
          ]
        }
      ]
    },
    {
      "cell_type": "markdown",
      "source": [
        "Eye Method is a Construct an identity matrix, or a batch of matrices."
      ],
      "metadata": {
        "id": "n5LxVnZCgl8W"
      }
    },
    {
      "cell_type": "code",
      "source": [
        "tensor_matrix = tf.eye(\n",
        "    num_rows = 5,\n",
        "    num_columns=5,\n",
        "    batch_shape=[2,3],\n",
        "    dtype=tf.dtypes.int32,\n",
        "    name=None\n",
        ")\n",
        "print(5*tensor_matrix)"
      ],
      "metadata": {
        "colab": {
          "base_uri": "https://localhost:8080/"
        },
        "id": "z3H8RR7EgY5x",
        "outputId": "ff7e34f2-1520-4927-9e14-f2f56a0cfa90"
      },
      "execution_count": null,
      "outputs": [
        {
          "output_type": "stream",
          "name": "stdout",
          "text": [
            "tf.Tensor(\n",
            "[[[[5 0 0 0 0]\n",
            "   [0 5 0 0 0]\n",
            "   [0 0 5 0 0]\n",
            "   [0 0 0 5 0]\n",
            "   [0 0 0 0 5]]\n",
            "\n",
            "  [[5 0 0 0 0]\n",
            "   [0 5 0 0 0]\n",
            "   [0 0 5 0 0]\n",
            "   [0 0 0 5 0]\n",
            "   [0 0 0 0 5]]\n",
            "\n",
            "  [[5 0 0 0 0]\n",
            "   [0 5 0 0 0]\n",
            "   [0 0 5 0 0]\n",
            "   [0 0 0 5 0]\n",
            "   [0 0 0 0 5]]]\n",
            "\n",
            "\n",
            " [[[5 0 0 0 0]\n",
            "   [0 5 0 0 0]\n",
            "   [0 0 5 0 0]\n",
            "   [0 0 0 5 0]\n",
            "   [0 0 0 0 5]]\n",
            "\n",
            "  [[5 0 0 0 0]\n",
            "   [0 5 0 0 0]\n",
            "   [0 0 5 0 0]\n",
            "   [0 0 0 5 0]\n",
            "   [0 0 0 0 5]]\n",
            "\n",
            "  [[5 0 0 0 0]\n",
            "   [0 5 0 0 0]\n",
            "   [0 0 5 0 0]\n",
            "   [0 0 0 5 0]\n",
            "   [0 0 0 0 5]]]], shape=(2, 3, 5, 5), dtype=int32)\n"
          ]
        }
      ]
    },
    {
      "cell_type": "markdown",
      "source": [
        "Creates a tensor filled with a scalar value."
      ],
      "metadata": {
        "id": "t91gFyvxj_sP"
      }
    },
    {
      "cell_type": "code",
      "source": [
        "tensor_fill = tf.fill(\n",
        "    [2,4,5],7,name=None\n",
        ")\n",
        "print(tensor_fill)"
      ],
      "metadata": {
        "colab": {
          "base_uri": "https://localhost:8080/"
        },
        "id": "KD2ZtrVYiMue",
        "outputId": "d5f12947-5a2b-42d9-89d9-72e8591c72bf"
      },
      "execution_count": null,
      "outputs": [
        {
          "output_type": "stream",
          "name": "stdout",
          "text": [
            "tf.Tensor(\n",
            "[[[7 7 7 7 7]\n",
            "  [7 7 7 7 7]\n",
            "  [7 7 7 7 7]\n",
            "  [7 7 7 7 7]]\n",
            "\n",
            " [[7 7 7 7 7]\n",
            "  [7 7 7 7 7]\n",
            "  [7 7 7 7 7]\n",
            "  [7 7 7 7 7]]], shape=(2, 4, 5), dtype=int32)\n"
          ]
        }
      ]
    },
    {
      "cell_type": "markdown",
      "source": [
        "Creates a tensor with all elements set to one (1)."
      ],
      "metadata": {
        "id": "jWYbLPpYmiQY"
      }
    },
    {
      "cell_type": "code",
      "source": [
        "tensor_ones = tf.ones(\n",
        "    shape=[5,3,4,5],\n",
        "    dtype=tf.dtypes.int32,\n",
        "    name=None,\n",
        "    layout=None\n",
        ")\n",
        "print(tensor_ones)"
      ],
      "metadata": {
        "colab": {
          "base_uri": "https://localhost:8080/"
        },
        "id": "ksMY8VnokPsC",
        "outputId": "06cb480f-ba7c-4a7c-bdce-a0629271f5bb"
      },
      "execution_count": null,
      "outputs": [
        {
          "output_type": "stream",
          "name": "stdout",
          "text": [
            "tf.Tensor(\n",
            "[[[[1 1 1 1 1]\n",
            "   [1 1 1 1 1]\n",
            "   [1 1 1 1 1]\n",
            "   [1 1 1 1 1]]\n",
            "\n",
            "  [[1 1 1 1 1]\n",
            "   [1 1 1 1 1]\n",
            "   [1 1 1 1 1]\n",
            "   [1 1 1 1 1]]\n",
            "\n",
            "  [[1 1 1 1 1]\n",
            "   [1 1 1 1 1]\n",
            "   [1 1 1 1 1]\n",
            "   [1 1 1 1 1]]]\n",
            "\n",
            "\n",
            " [[[1 1 1 1 1]\n",
            "   [1 1 1 1 1]\n",
            "   [1 1 1 1 1]\n",
            "   [1 1 1 1 1]]\n",
            "\n",
            "  [[1 1 1 1 1]\n",
            "   [1 1 1 1 1]\n",
            "   [1 1 1 1 1]\n",
            "   [1 1 1 1 1]]\n",
            "\n",
            "  [[1 1 1 1 1]\n",
            "   [1 1 1 1 1]\n",
            "   [1 1 1 1 1]\n",
            "   [1 1 1 1 1]]]\n",
            "\n",
            "\n",
            " [[[1 1 1 1 1]\n",
            "   [1 1 1 1 1]\n",
            "   [1 1 1 1 1]\n",
            "   [1 1 1 1 1]]\n",
            "\n",
            "  [[1 1 1 1 1]\n",
            "   [1 1 1 1 1]\n",
            "   [1 1 1 1 1]\n",
            "   [1 1 1 1 1]]\n",
            "\n",
            "  [[1 1 1 1 1]\n",
            "   [1 1 1 1 1]\n",
            "   [1 1 1 1 1]\n",
            "   [1 1 1 1 1]]]\n",
            "\n",
            "\n",
            " [[[1 1 1 1 1]\n",
            "   [1 1 1 1 1]\n",
            "   [1 1 1 1 1]\n",
            "   [1 1 1 1 1]]\n",
            "\n",
            "  [[1 1 1 1 1]\n",
            "   [1 1 1 1 1]\n",
            "   [1 1 1 1 1]\n",
            "   [1 1 1 1 1]]\n",
            "\n",
            "  [[1 1 1 1 1]\n",
            "   [1 1 1 1 1]\n",
            "   [1 1 1 1 1]\n",
            "   [1 1 1 1 1]]]\n",
            "\n",
            "\n",
            " [[[1 1 1 1 1]\n",
            "   [1 1 1 1 1]\n",
            "   [1 1 1 1 1]\n",
            "   [1 1 1 1 1]]\n",
            "\n",
            "  [[1 1 1 1 1]\n",
            "   [1 1 1 1 1]\n",
            "   [1 1 1 1 1]\n",
            "   [1 1 1 1 1]]\n",
            "\n",
            "  [[1 1 1 1 1]\n",
            "   [1 1 1 1 1]\n",
            "   [1 1 1 1 1]\n",
            "   [1 1 1 1 1]]]], shape=(5, 3, 4, 5), dtype=int32)\n"
          ]
        }
      ]
    },
    {
      "cell_type": "markdown",
      "source": [
        "Creates a tensor of all ones that has the same shape as the input."
      ],
      "metadata": {
        "id": "zJea4Q15rrTX"
      }
    },
    {
      "cell_type": "code",
      "source": [
        "ones_tensor = tf.ones_like(\n",
        "    [[2,3,4],[4,5,3]], dtype=None, name=None, layout=None\n",
        ")\n",
        "print(ones_tensor)"
      ],
      "metadata": {
        "colab": {
          "base_uri": "https://localhost:8080/"
        },
        "id": "HpTRz3oFp1ju",
        "outputId": "26967110-3cca-4b41-fac7-e10b3e37e12f"
      },
      "execution_count": null,
      "outputs": [
        {
          "output_type": "stream",
          "name": "stdout",
          "text": [
            "tf.Tensor(\n",
            "[[1 1 1]\n",
            " [1 1 1]], shape=(2, 3), dtype=int32)\n"
          ]
        }
      ]
    },
    {
      "cell_type": "markdown",
      "source": [
        "Creates a tensor with all elements set to zero."
      ],
      "metadata": {
        "id": "XyUGzob3sb0U"
      }
    },
    {
      "cell_type": "code",
      "source": [
        "zero_tensor = tf.zeros(\n",
        "    shape=[5,3,4,5],\n",
        "    dtype=tf.dtypes.int32,\n",
        "    name=None,\n",
        "    layout=None\n",
        ")\n",
        "print(zero_tensor)"
      ],
      "metadata": {
        "colab": {
          "base_uri": "https://localhost:8080/"
        },
        "id": "PBhSW-gwr3NP",
        "outputId": "b367d814-eadd-4f3d-f714-38886c76f4bd"
      },
      "execution_count": null,
      "outputs": [
        {
          "output_type": "stream",
          "name": "stdout",
          "text": [
            "tf.Tensor(\n",
            "[[[[0 0 0 0 0]\n",
            "   [0 0 0 0 0]\n",
            "   [0 0 0 0 0]\n",
            "   [0 0 0 0 0]]\n",
            "\n",
            "  [[0 0 0 0 0]\n",
            "   [0 0 0 0 0]\n",
            "   [0 0 0 0 0]\n",
            "   [0 0 0 0 0]]\n",
            "\n",
            "  [[0 0 0 0 0]\n",
            "   [0 0 0 0 0]\n",
            "   [0 0 0 0 0]\n",
            "   [0 0 0 0 0]]]\n",
            "\n",
            "\n",
            " [[[0 0 0 0 0]\n",
            "   [0 0 0 0 0]\n",
            "   [0 0 0 0 0]\n",
            "   [0 0 0 0 0]]\n",
            "\n",
            "  [[0 0 0 0 0]\n",
            "   [0 0 0 0 0]\n",
            "   [0 0 0 0 0]\n",
            "   [0 0 0 0 0]]\n",
            "\n",
            "  [[0 0 0 0 0]\n",
            "   [0 0 0 0 0]\n",
            "   [0 0 0 0 0]\n",
            "   [0 0 0 0 0]]]\n",
            "\n",
            "\n",
            " [[[0 0 0 0 0]\n",
            "   [0 0 0 0 0]\n",
            "   [0 0 0 0 0]\n",
            "   [0 0 0 0 0]]\n",
            "\n",
            "  [[0 0 0 0 0]\n",
            "   [0 0 0 0 0]\n",
            "   [0 0 0 0 0]\n",
            "   [0 0 0 0 0]]\n",
            "\n",
            "  [[0 0 0 0 0]\n",
            "   [0 0 0 0 0]\n",
            "   [0 0 0 0 0]\n",
            "   [0 0 0 0 0]]]\n",
            "\n",
            "\n",
            " [[[0 0 0 0 0]\n",
            "   [0 0 0 0 0]\n",
            "   [0 0 0 0 0]\n",
            "   [0 0 0 0 0]]\n",
            "\n",
            "  [[0 0 0 0 0]\n",
            "   [0 0 0 0 0]\n",
            "   [0 0 0 0 0]\n",
            "   [0 0 0 0 0]]\n",
            "\n",
            "  [[0 0 0 0 0]\n",
            "   [0 0 0 0 0]\n",
            "   [0 0 0 0 0]\n",
            "   [0 0 0 0 0]]]\n",
            "\n",
            "\n",
            " [[[0 0 0 0 0]\n",
            "   [0 0 0 0 0]\n",
            "   [0 0 0 0 0]\n",
            "   [0 0 0 0 0]]\n",
            "\n",
            "  [[0 0 0 0 0]\n",
            "   [0 0 0 0 0]\n",
            "   [0 0 0 0 0]\n",
            "   [0 0 0 0 0]]\n",
            "\n",
            "  [[0 0 0 0 0]\n",
            "   [0 0 0 0 0]\n",
            "   [0 0 0 0 0]\n",
            "   [0 0 0 0 0]]]], shape=(5, 3, 4, 5), dtype=int32)\n"
          ]
        }
      ]
    },
    {
      "cell_type": "markdown",
      "source": [
        "Returns the rank of a tensor."
      ],
      "metadata": {
        "id": "5zM1NxaItruD"
      }
    },
    {
      "cell_type": "code",
      "source": [
        "# shape of tensor 't' is [2, 2, 3]\n",
        "t = tf.constant([[1, 1, 1], [2, 2, 2]])\n",
        "tf.rank(t)"
      ],
      "metadata": {
        "colab": {
          "base_uri": "https://localhost:8080/"
        },
        "id": "lMfOFXYPshjf",
        "outputId": "481e653c-8e66-4e93-bd52-cd2c21eef7d0"
      },
      "execution_count": null,
      "outputs": [
        {
          "output_type": "execute_result",
          "data": {
            "text/plain": [
              "<tf.Tensor: shape=(), dtype=int32, numpy=2>"
            ]
          },
          "metadata": {},
          "execution_count": 71
        }
      ]
    },
    {
      "cell_type": "markdown",
      "source": [
        "Outputs random values from a normal distribution."
      ],
      "metadata": {
        "id": "fE3uAptvzAjQ"
      }
    },
    {
      "cell_type": "code",
      "source": [
        "radam_tensor = tf.random.normal(\n",
        "    shape=[3,3],\n",
        "    mean=10.0,\n",
        "    stddev=1.0,\n",
        "    dtype=tf.dtypes.float32,\n",
        "    seed=None,\n",
        "    name=None\n",
        ")\n",
        "print(radam_tensor)"
      ],
      "metadata": {
        "colab": {
          "base_uri": "https://localhost:8080/"
        },
        "id": "lsEbeI8xtwIS",
        "outputId": "399cca04-95c6-4733-866f-fa7b9da87e22"
      },
      "execution_count": null,
      "outputs": [
        {
          "output_type": "stream",
          "name": "stdout",
          "text": [
            "tf.Tensor(\n",
            "[[10.078788   9.9012785  9.436123 ]\n",
            " [10.127979  10.332671   8.321602 ]\n",
            " [ 8.618841   9.417417  11.983002 ]], shape=(3, 3), dtype=float32)\n"
          ]
        }
      ]
    },
    {
      "cell_type": "markdown",
      "source": [
        "Maths function ..\n",
        "\n",
        "Asihn function\n"
      ],
      "metadata": {
        "id": "veI1MIgD1q0m"
      }
    },
    {
      "cell_type": "code",
      "source": [
        "X_no = tf.constant([-2.70,-1.50])\n",
        "print(abs(X_no))"
      ],
      "metadata": {
        "id": "vjx6YlZqzPMD",
        "colab": {
          "base_uri": "https://localhost:8080/"
        },
        "outputId": "04de6ab3-3d74-492f-bc01-3c08d881b30c"
      },
      "execution_count": null,
      "outputs": [
        {
          "output_type": "stream",
          "name": "stdout",
          "text": [
            "tf.Tensor([2.7 1.5], shape=(2,), dtype=float32)\n"
          ]
        }
      ]
    },
    {
      "cell_type": "code",
      "source": [
        "x_abs_complex = tf.constant([-2.70+4.80j])\n",
        "print(tf.abs(x_abs_complex))"
      ],
      "metadata": {
        "colab": {
          "base_uri": "https://localhost:8080/"
        },
        "id": "6ZkMiLwd2GhH",
        "outputId": "8051602d-ee2d-4676-cba9-ef167dda66ff"
      },
      "execution_count": null,
      "outputs": [
        {
          "output_type": "stream",
          "name": "stdout",
          "text": [
            "tf.Tensor([5.50726793], shape=(1,), dtype=float64)\n"
          ]
        }
      ]
    },
    {
      "cell_type": "markdown",
      "source": [
        "it function working at index of the maximum number then return the index of max nukmber"
      ],
      "metadata": {
        "id": "72nOo7of3gF3"
      }
    },
    {
      "cell_type": "code",
      "source": [
        "X_argmax = tf.constant([2,1,4,3])\n",
        "print(tf.argmax(X_argmax))"
      ],
      "metadata": {
        "colab": {
          "base_uri": "https://localhost:8080/"
        },
        "id": "FYbcKKix2oQX",
        "outputId": "c03f7473-33d7-462b-a7a4-5281b8fb251b"
      },
      "execution_count": null,
      "outputs": [
        {
          "output_type": "stream",
          "name": "stdout",
          "text": [
            "tf.Tensor(2, shape=(), dtype=int64)\n"
          ]
        }
      ]
    },
    {
      "cell_type": "code",
      "source": [
        "input = tf.constant([[1, 2], [3, 4]])\n",
        "\n",
        "x_topk=tf.math.top_k(\n",
        "    input,\n",
        "    k=1,\n",
        "    sorted=True,\n",
        "    index_type=tf.dtypes.int32,\n",
        "    name=None\n",
        ")\n",
        "print(x_topk)"
      ],
      "metadata": {
        "colab": {
          "base_uri": "https://localhost:8080/"
        },
        "id": "OaCKIkfS3Yub",
        "outputId": "ff66c745-812f-4ac7-afeb-08742833f396"
      },
      "execution_count": null,
      "outputs": [
        {
          "output_type": "stream",
          "name": "stdout",
          "text": [
            "TopKV2(values=<tf.Tensor: shape=(2, 1), dtype=int32, numpy=\n",
            "array([[2],\n",
            "       [4]], dtype=int32)>, indices=<tf.Tensor: shape=(2, 1), dtype=int32, numpy=\n",
            "array([[1],\n",
            "       [1]], dtype=int32)>)\n"
          ]
        }
      ]
    },
    {
      "cell_type": "markdown",
      "source": [
        "Linaer Alegbra :-\n",
        "1. Multiplies matrix a by matrix b, producing a * b."
      ],
      "metadata": {
        "id": "thJ_bXYh9jXp"
      }
    },
    {
      "cell_type": "code",
      "source": [
        "x_matmul = tf.constant([[1, 2], [3, 4]])\n",
        "y_matmul = tf.constant([[5, 6], [7, 8]])\n",
        "print(tf.matmul(x_matmul,y_matmul))"
      ],
      "metadata": {
        "colab": {
          "base_uri": "https://localhost:8080/"
        },
        "id": "Tb5-fxjz46Hs",
        "outputId": "0c185f1a-5e02-4450-e49c-d26c3e54a959"
      },
      "execution_count": 2,
      "outputs": [
        {
          "output_type": "stream",
          "name": "stdout",
          "text": [
            "tf.Tensor(\n",
            "[[19 22]\n",
            " [43 50]], shape=(2, 2), dtype=int32)\n"
          ]
        }
      ]
    },
    {
      "cell_type": "code",
      "source": [
        "tf.linalg.matmul(\n",
        "    x_matmul,\n",
        "    y_matmul,\n",
        "    transpose_a=False,\n",
        "    transpose_b=False,\n",
        "    adjoint_a=False,\n",
        "    adjoint_b=False,\n",
        "    a_is_sparse=False,\n",
        "    b_is_sparse=False,\n",
        "    output_type=None,\n",
        "    grad_a=False,\n",
        "    grad_b=False,\n",
        "    name=None\n",
        ")"
      ],
      "metadata": {
        "id": "e7wzApnb-Blm",
        "colab": {
          "base_uri": "https://localhost:8080/"
        },
        "outputId": "b8920924-b4dc-4b86-f39a-43c31019af01"
      },
      "execution_count": 3,
      "outputs": [
        {
          "output_type": "execute_result",
          "data": {
            "text/plain": [
              "<tf.Tensor: shape=(2, 2), dtype=int32, numpy=\n",
              "array([[19, 22],\n",
              "       [43, 50]], dtype=int32)>"
            ]
          },
          "metadata": {},
          "execution_count": 3
        }
      ]
    },
    {
      "cell_type": "code",
      "source": [
        "print(x_matmul@y_matmul)"
      ],
      "metadata": {
        "colab": {
          "base_uri": "https://localhost:8080/"
        },
        "id": "GsHz8TRHjIDS",
        "outputId": "7c34f46b-e7a3-4ca5-b416-b5681e538fe0"
      },
      "execution_count": 4,
      "outputs": [
        {
          "output_type": "stream",
          "name": "stdout",
          "text": [
            "tf.Tensor(\n",
            "[[19 22]\n",
            " [43 50]], shape=(2, 2), dtype=int32)\n"
          ]
        }
      ]
    },
    {
      "cell_type": "code",
      "source": [],
      "metadata": {
        "id": "04fCbex8jbM3"
      },
      "execution_count": null,
      "outputs": []
    }
  ]
}